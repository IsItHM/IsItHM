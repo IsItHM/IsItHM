{
  "nbformat": 4,
  "nbformat_minor": 0,
  "metadata": {
    "colab": {
      "provenance": [],
      "authorship_tag": "ABX9TyOjR/UEtIIfx8OLGLr7ng0r",
      "include_colab_link": true
    },
    "kernelspec": {
      "name": "python3",
      "display_name": "Python 3"
    },
    "language_info": {
      "name": "python"
    }
  },
  "cells": [
    {
      "cell_type": "markdown",
      "metadata": {
        "id": "view-in-github",
        "colab_type": "text"
      },
      "source": [
        "<a href=\"https://colab.research.google.com/github/IsItHM/IsItHM/blob/main/workshop_on_api.ipynb\" target=\"_parent\"><img src=\"https://colab.research.google.com/assets/colab-badge.svg\" alt=\"Open In Colab\"/></a>"
      ]
    },
    {
      "cell_type": "code",
      "execution_count": 1,
      "metadata": {
        "id": "KU5vx3ymLT0N"
      },
      "outputs": [],
      "source": [
        "!pip install -q -U google-generativeai"
      ]
    },
    {
      "cell_type": "code",
      "source": [
        "#Import the necessary packages.\n",
        "import pathlib\n",
        "import textwrap\n",
        "\n",
        "import google.generativeai as genai\n",
        "\n",
        "# Used to securely store your API key\n",
        "from google.colab import userdata\n",
        "\n",
        "from IPython.display import display\n",
        "from IPython.display import Markdown\n",
        "\n",
        "\n",
        "def to_markdown(text):\n",
        "   text = text.replace('•', '  *')\n",
        "   return Markdown(textwrap.indent(text, '> ', predicate=lambda _: True))"
      ],
      "metadata": {
        "id": "ZnZPWhvuMCb2"
      },
      "execution_count": 2,
      "outputs": []
    },
    {
      "cell_type": "code",
      "source": [
        "# Setup your API key\n",
        "# Or use `os.getenv('GOOGLE_API_KEY')` to fetch an environment variable.\n",
        "GOOGLE_API_KEY=userdata.get('TEST')\n",
        "genai.configure(api_key=GOOGLE_API_KEY)"
      ],
      "metadata": {
        "id": "KH4shQ0dOcKl"
      },
      "execution_count": 5,
      "outputs": []
    },
    {
      "cell_type": "code",
      "source": [
        "#List Model\n",
        "#gemini-pro: optimized for text-only prompts.\n",
        "#gemini-pro-vision: optimized for text-and-images prompts.\n",
        "for m in genai.list_models():\n",
        "   if 'generateContent' in m.supported_generation_methods:\n",
        "      print(m.name)"
      ],
      "metadata": {
        "colab": {
          "base_uri": "https://localhost:8080/",
          "height": 138
        },
        "id": "Zsf45wyzOj11",
        "outputId": "627bbdb9-b452-486a-cd87-c8464303f1ba"
      },
      "execution_count": 6,
      "outputs": [
        {
          "output_type": "stream",
          "name": "stdout",
          "text": [
            "models/gemini-1.0-pro\n",
            "models/gemini-1.0-pro-001\n",
            "models/gemini-1.0-pro-latest\n",
            "models/gemini-1.0-pro-vision-latest\n",
            "models/gemini-1.5-pro-latest\n",
            "models/gemini-pro\n",
            "models/gemini-pro-vision\n"
          ]
        }
      ]
    },
    {
      "cell_type": "code",
      "source": [
        "# Generate text from text inputs\n",
        "model = genai.GenerativeModel('gemini-pro')\n"
      ],
      "metadata": {
        "id": "eF-X2K5iO1Ml"
      },
      "execution_count": 7,
      "outputs": []
    },
    {
      "cell_type": "code",
      "source": [
        "#GenerativeModel.generate_content method:\n",
        "%%time\n",
        "response = model.generate_content(\"What is the meaning of life?\")"
      ],
      "metadata": {
        "colab": {
          "base_uri": "https://localhost:8080/",
          "height": 52
        },
        "id": "l2jzUauiO6Hd",
        "outputId": "533f377f-9a96-4a2e-888f-f427cfa3ebde"
      },
      "execution_count": 8,
      "outputs": [
        {
          "output_type": "stream",
          "name": "stdout",
          "text": [
            "CPU times: user 106 ms, sys: 12.7 ms, total: 119 ms\n",
            "Wall time: 5.73 s\n"
          ]
        }
      ]
    },
    {
      "cell_type": "code",
      "source": [
        "response.text\n"
      ],
      "metadata": {
        "colab": {
          "base_uri": "https://localhost:8080/",
          "height": 122
        },
        "id": "aZ8FIg3RPArV",
        "outputId": "74f1a7f0-b834-4ab7-d31f-9afa01c9b1c8"
      },
      "execution_count": 10,
      "outputs": [
        {
          "output_type": "execute_result",
          "data": {
            "text/plain": [
              "'There is no one definitive answer to this question. The meaning of life is a personal quest that each individual must explore for themselves. However, there are some common themes that emerge when people discuss the meaning of life. These include:\\n\\n* Finding purpose and fulfillment in your work and personal life\\n* Making a difference in the world\\n* Connecting with others and building relationships\\n* Living a life that is true to your values\\n* Growing and learning as a person\\n* Finding joy and happiness\\n\\nUltimately, the meaning of life is what you make it. It is a journey, not a destination. The key is to find what makes you feel alive and fulfilled, and to live your life accordingly.'"
            ],
            "application/vnd.google.colaboratory.intrinsic+json": {
              "type": "string"
            }
          },
          "metadata": {},
          "execution_count": 10
        }
      ]
    },
    {
      "cell_type": "code",
      "source": [
        "to_markdown(response.text)\n"
      ],
      "metadata": {
        "colab": {
          "base_uri": "https://localhost:8080/",
          "height": 231
        },
        "id": "qoyH1owoPLGZ",
        "outputId": "3c15e925-0f43-472f-8738-f8395e8218ee"
      },
      "execution_count": 11,
      "outputs": [
        {
          "output_type": "execute_result",
          "data": {
            "text/plain": [
              "<IPython.core.display.Markdown object>"
            ],
            "text/markdown": "> There is no one definitive answer to this question. The meaning of life is a personal quest that each individual must explore for themselves. However, there are some common themes that emerge when people discuss the meaning of life. These include:\n> \n> * Finding purpose and fulfillment in your work and personal life\n> * Making a difference in the world\n> * Connecting with others and building relationships\n> * Living a life that is true to your values\n> * Growing and learning as a person\n> * Finding joy and happiness\n> \n> Ultimately, the meaning of life is what you make it. It is a journey, not a destination. The key is to find what makes you feel alive and fulfilled, and to live your life accordingly."
          },
          "metadata": {},
          "execution_count": 11
        }
      ]
    },
    {
      "cell_type": "markdown",
      "source": [
        "######retreival augmented generator"
      ],
      "metadata": {
        "id": "zd6qhkbmar9D"
      }
    }
  ]
}